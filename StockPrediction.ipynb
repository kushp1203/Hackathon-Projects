{
  "nbformat": 4,
  "nbformat_minor": 0,
  "metadata": {
    "colab": {
      "name": "StockPrediction.ipynb",
      "provenance": [],
      "collapsed_sections": [],
      "authorship_tag": "ABX9TyNEjjbXHBAj5PRk8rTNoVZp",
      "include_colab_link": true
    },
    "kernelspec": {
      "name": "python3",
      "display_name": "Python 3"
    }
  },
  "cells": [
    {
      "cell_type": "markdown",
      "metadata": {
        "id": "view-in-github",
        "colab_type": "text"
      },
      "source": [
        "<a href=\"https://colab.research.google.com/github/kushp1203/Hackathon-Projects/blob/main/StockPrediction.ipynb\" target=\"_parent\"><img src=\"https://colab.research.google.com/assets/colab-badge.svg\" alt=\"Open In Colab\"/></a>"
      ]
    },
    {
      "cell_type": "code",
      "metadata": {
        "id": "rrJKHKmzewKU",
        "outputId": "7b98670b-531a-4d80-ec39-6bf7824939d5",
        "colab": {
          "base_uri": "https://localhost:8080/",
          "height": 80
        }
      },
      "source": [
        "import math\n",
        "import pandas_datareader as web\n",
        "import numpy as np\n",
        "from sklearn.preprocessing import MinMaxScaler\n",
        "from keras.models import Sequential\n",
        "from keras.layers import Dense, LSTM\n",
        "import matplotlib.pyplot as plt\n",
        "plt.style.use('fivethirtyeight')"
      ],
      "execution_count": null,
      "outputs": [
        {
          "output_type": "stream",
          "text": [
            "Using TensorFlow backend.\n"
          ],
          "name": "stderr"
        },
        {
          "output_type": "display_data",
          "data": {
            "text/html": [
              "<p style=\"color: red;\">\n",
              "The default version of TensorFlow in Colab will soon switch to TensorFlow 2.x.<br>\n",
              "We recommend you <a href=\"https://www.tensorflow.org/guide/migrate\" target=\"_blank\">upgrade</a> now \n",
              "or ensure your notebook will continue to use TensorFlow 1.x via the <code>%tensorflow_version 1.x</code> magic:\n",
              "<a href=\"https://colab.research.google.com/notebooks/tensorflow_version.ipynb\" target=\"_blank\">more info</a>.</p>\n"
            ],
            "text/plain": [
              "<IPython.core.display.HTML object>"
            ]
          },
          "metadata": {
            "tags": []
          }
        }
      ]
    },
    {
      "cell_type": "code",
      "metadata": {
        "id": "y2pBLDWcyJuv",
        "outputId": "f488fa19-54ed-4840-c621-8217f7e0a10f",
        "colab": {
          "base_uri": "https://localhost:8080/",
          "height": 34
        }
      },
      "source": [
        "company = 'MSFT'\n",
        "company"
      ],
      "execution_count": null,
      "outputs": [
        {
          "output_type": "execute_result",
          "data": {
            "text/plain": [
              "'MSFT'"
            ]
          },
          "metadata": {
            "tags": []
          },
          "execution_count": 2
        }
      ]
    },
    {
      "cell_type": "code",
      "metadata": {
        "id": "OHm2N1ayfdX8",
        "outputId": "5de9a156-5839-428d-df17-0837e40f0a4b",
        "colab": {
          "base_uri": "https://localhost:8080/",
          "height": 450
        }
      },
      "source": [
        "\n",
        "df = web.DataReader(company, data_source='yahoo', start='2012-01-01', end='2020-02-21')\n",
        "df"
      ],
      "execution_count": null,
      "outputs": [
        {
          "output_type": "execute_result",
          "data": {
            "text/html": [
              "<div>\n",
              "<style scoped>\n",
              "    .dataframe tbody tr th:only-of-type {\n",
              "        vertical-align: middle;\n",
              "    }\n",
              "\n",
              "    .dataframe tbody tr th {\n",
              "        vertical-align: top;\n",
              "    }\n",
              "\n",
              "    .dataframe thead th {\n",
              "        text-align: right;\n",
              "    }\n",
              "</style>\n",
              "<table border=\"1\" class=\"dataframe\">\n",
              "  <thead>\n",
              "    <tr style=\"text-align: right;\">\n",
              "      <th></th>\n",
              "      <th>High</th>\n",
              "      <th>Low</th>\n",
              "      <th>Open</th>\n",
              "      <th>Close</th>\n",
              "      <th>Volume</th>\n",
              "      <th>Adj Close</th>\n",
              "    </tr>\n",
              "    <tr>\n",
              "      <th>Date</th>\n",
              "      <th></th>\n",
              "      <th></th>\n",
              "      <th></th>\n",
              "      <th></th>\n",
              "      <th></th>\n",
              "      <th></th>\n",
              "    </tr>\n",
              "  </thead>\n",
              "  <tbody>\n",
              "    <tr>\n",
              "      <th>2012-01-03</th>\n",
              "      <td>26.959999</td>\n",
              "      <td>26.389999</td>\n",
              "      <td>26.549999</td>\n",
              "      <td>26.770000</td>\n",
              "      <td>64731500.0</td>\n",
              "      <td>22.020796</td>\n",
              "    </tr>\n",
              "    <tr>\n",
              "      <th>2012-01-04</th>\n",
              "      <td>27.469999</td>\n",
              "      <td>26.780001</td>\n",
              "      <td>26.820000</td>\n",
              "      <td>27.400000</td>\n",
              "      <td>80516100.0</td>\n",
              "      <td>22.539021</td>\n",
              "    </tr>\n",
              "    <tr>\n",
              "      <th>2012-01-05</th>\n",
              "      <td>27.730000</td>\n",
              "      <td>27.290001</td>\n",
              "      <td>27.379999</td>\n",
              "      <td>27.680000</td>\n",
              "      <td>56081400.0</td>\n",
              "      <td>22.769344</td>\n",
              "    </tr>\n",
              "    <tr>\n",
              "      <th>2012-01-06</th>\n",
              "      <td>28.190001</td>\n",
              "      <td>27.530001</td>\n",
              "      <td>27.530001</td>\n",
              "      <td>28.110001</td>\n",
              "      <td>99455500.0</td>\n",
              "      <td>23.123066</td>\n",
              "    </tr>\n",
              "    <tr>\n",
              "      <th>2012-01-09</th>\n",
              "      <td>28.100000</td>\n",
              "      <td>27.719999</td>\n",
              "      <td>28.049999</td>\n",
              "      <td>27.740000</td>\n",
              "      <td>59706800.0</td>\n",
              "      <td>22.818701</td>\n",
              "    </tr>\n",
              "    <tr>\n",
              "      <th>...</th>\n",
              "      <td>...</td>\n",
              "      <td>...</td>\n",
              "      <td>...</td>\n",
              "      <td>...</td>\n",
              "      <td>...</td>\n",
              "      <td>...</td>\n",
              "    </tr>\n",
              "    <tr>\n",
              "      <th>2020-02-14</th>\n",
              "      <td>185.410004</td>\n",
              "      <td>182.649994</td>\n",
              "      <td>183.250000</td>\n",
              "      <td>185.350006</td>\n",
              "      <td>23149500.0</td>\n",
              "      <td>184.845123</td>\n",
              "    </tr>\n",
              "    <tr>\n",
              "      <th>2020-02-18</th>\n",
              "      <td>187.699997</td>\n",
              "      <td>185.500000</td>\n",
              "      <td>185.610001</td>\n",
              "      <td>187.229996</td>\n",
              "      <td>27792200.0</td>\n",
              "      <td>186.720001</td>\n",
              "    </tr>\n",
              "    <tr>\n",
              "      <th>2020-02-19</th>\n",
              "      <td>188.179993</td>\n",
              "      <td>186.470001</td>\n",
              "      <td>188.059998</td>\n",
              "      <td>187.279999</td>\n",
              "      <td>29997500.0</td>\n",
              "      <td>187.279999</td>\n",
              "    </tr>\n",
              "    <tr>\n",
              "      <th>2020-02-20</th>\n",
              "      <td>187.250000</td>\n",
              "      <td>181.100006</td>\n",
              "      <td>186.949997</td>\n",
              "      <td>184.419998</td>\n",
              "      <td>36862400.0</td>\n",
              "      <td>184.419998</td>\n",
              "    </tr>\n",
              "    <tr>\n",
              "      <th>2020-02-21</th>\n",
              "      <td>183.500000</td>\n",
              "      <td>177.250000</td>\n",
              "      <td>183.169998</td>\n",
              "      <td>178.589996</td>\n",
              "      <td>48572600.0</td>\n",
              "      <td>178.589996</td>\n",
              "    </tr>\n",
              "  </tbody>\n",
              "</table>\n",
              "<p>2047 rows × 6 columns</p>\n",
              "</div>"
            ],
            "text/plain": [
              "                  High         Low  ...      Volume   Adj Close\n",
              "Date                                ...                        \n",
              "2012-01-03   26.959999   26.389999  ...  64731500.0   22.020796\n",
              "2012-01-04   27.469999   26.780001  ...  80516100.0   22.539021\n",
              "2012-01-05   27.730000   27.290001  ...  56081400.0   22.769344\n",
              "2012-01-06   28.190001   27.530001  ...  99455500.0   23.123066\n",
              "2012-01-09   28.100000   27.719999  ...  59706800.0   22.818701\n",
              "...                ...         ...  ...         ...         ...\n",
              "2020-02-14  185.410004  182.649994  ...  23149500.0  184.845123\n",
              "2020-02-18  187.699997  185.500000  ...  27792200.0  186.720001\n",
              "2020-02-19  188.179993  186.470001  ...  29997500.0  187.279999\n",
              "2020-02-20  187.250000  181.100006  ...  36862400.0  184.419998\n",
              "2020-02-21  183.500000  177.250000  ...  48572600.0  178.589996\n",
              "\n",
              "[2047 rows x 6 columns]"
            ]
          },
          "metadata": {
            "tags": []
          },
          "execution_count": 3
        }
      ]
    },
    {
      "cell_type": "code",
      "metadata": {
        "id": "3kdCZxbcgqX5",
        "outputId": "bdfce371-ad53-4404-a76a-9c063b9fdfd9",
        "colab": {
          "base_uri": "https://localhost:8080/",
          "height": 34
        }
      },
      "source": [
        "df.shape"
      ],
      "execution_count": null,
      "outputs": [
        {
          "output_type": "execute_result",
          "data": {
            "text/plain": [
              "(2047, 6)"
            ]
          },
          "metadata": {
            "tags": []
          },
          "execution_count": 4
        }
      ]
    },
    {
      "cell_type": "code",
      "metadata": {
        "id": "YxL6gbG2gr8-",
        "outputId": "ea37ac75-76bf-4481-c6c9-f34c291f75f2",
        "colab": {
          "base_uri": "https://localhost:8080/",
          "height": 680
        }
      },
      "source": [
        "plt.figure(figsize=(16,8))\n",
        "plt.title('Close Price History')\n",
        "plt.plot(df['Close'])\n",
        "plt.xlabel('Date', fontsize=18)\n",
        "plt.ylabel('Close Price USD ($)', fontsize=18)\n",
        "plt.show()"
      ],
      "execution_count": null,
      "outputs": [
        {
          "output_type": "stream",
          "text": [
            "/usr/local/lib/python3.6/dist-packages/pandas/plotting/_matplotlib/converter.py:103: FutureWarning: Using an implicitly registered datetime converter for a matplotlib plotting method. The converter was registered by pandas on import. Future versions of pandas will require you to explicitly register matplotlib converters.\n",
            "\n",
            "To register the converters:\n",
            "\t>>> from pandas.plotting import register_matplotlib_converters\n",
            "\t>>> register_matplotlib_converters()\n",
            "  warnings.warn(msg, FutureWarning)\n"
          ],
          "name": "stderr"
        },
        {
          "output_type": "display_data",
          "data": {
            "image/png": "[encoded data removed]",
            "text/plain": [
              "<Figure size 1152x576 with 1 Axes>"
            ]
          },
          "metadata": {
            "tags": []
          }
        }
      ]
    },
    {
      "cell_type": "code",
      "metadata": {
        "id": "qfagIycThweo",
        "outputId": "4e00c86a-1945-4210-b39a-4c39f51d684c",
        "colab": {
          "base_uri": "https://localhost:8080/",
          "height": 34
        }
      },
      "source": [
        "data= df.filter(['Close'])\n",
        "dataset = data.values\n",
        "training_data_len = math.ceil( len(dataset) * .8 )\n",
        "\n",
        "training_data_len"
      ],
      "execution_count": null,
      "outputs": [
        {
          "output_type": "execute_result",
          "data": {
            "text/plain": [
              "1638"
            ]
          },
          "metadata": {
            "tags": []
          },
          "execution_count": 6
        }
      ]
    },
    {
      "cell_type": "code",
      "metadata": {
        "id": "dlQZU1G3jHWq",
        "outputId": "7e8efdbc-62ea-48db-dbd1-5664be4fbd6a",
        "colab": {
          "base_uri": "https://localhost:8080/",
          "height": 136
        }
      },
      "source": [
        "scaler = MinMaxScaler(feature_range=(0,1))\n",
        "scaled_data = scaler.fit_transform(dataset)\n",
        "\n",
        "scaled_data"
      ],
      "execution_count": null,
      "outputs": [
        {
          "output_type": "execute_result",
          "data": {
            "text/plain": [
              "array([[0.00246411],\n",
              "       [0.00634509],\n",
              "       [0.00806998],\n",
              "       ...,\n",
              "       [0.9912524 ],\n",
              "       [0.97363396],\n",
              "       [0.93771946]])"
            ]
          },
          "metadata": {
            "tags": []
          },
          "execution_count": 7
        }
      ]
    },
    {
      "cell_type": "code",
      "metadata": {
        "id": "I5il86J9jYMU",
        "outputId": "7726a883-0fe1-4415-f54b-35b384a6e513",
        "colab": {
          "base_uri": "https://localhost:8080/",
          "height": 680
        }
      },
      "source": [
        "train_data = scaled_data[0:training_data_len , :]\n",
        "x_train = []\n",
        "y_train = []\n",
        "\n",
        "for i in range(60, len(train_data)):\n",
        "  x_train.append(train_data[i-60:i, 0])\n",
        "  y_train.append(train_data[i, 0])\n",
        "  if i<= 61:\n",
        "    print(x_train)\n",
        "    print(y_train)\n",
        "    print()"
      ],
      "execution_count": null,
      "outputs": [
        {
          "output_type": "stream",
          "text": [
            "[array([0.00246411, 0.00634509, 0.00806998, 0.0107189 , 0.00843959,\n",
            "       0.00905562, 0.00831638, 0.01004127, 0.01158134, 0.01164295,\n",
            "       0.01145813, 0.01078051, 0.02057536, 0.02069857, 0.01829606,\n",
            "       0.01965132, 0.01928171, 0.01761842, 0.01995934, 0.01946652,\n",
            "       0.02168422, 0.02205384, 0.02384032, 0.02359391, 0.02451796,\n",
            "       0.02642764, 0.02710528, 0.025442  , 0.02593482, 0.02390192,\n",
            "       0.02266986, 0.03030863, 0.03006221, 0.03123267, 0.03018542,\n",
            "       0.03080145, 0.03147908, 0.03067825, 0.0338816 , 0.03308076,\n",
            "       0.03646892, 0.03517527, 0.03345037, 0.0319719 , 0.03369679,\n",
            "       0.03474403, 0.03462083, 0.03492885, 0.03880982, 0.03942586,\n",
            "       0.03991867, 0.0383786 , 0.0359145 , 0.03462083, 0.03412801,\n",
            "       0.03468243, 0.03474403, 0.03831701, 0.03788579, 0.03585288])]\n",
            "[0.03542166100213601]\n",
            "\n",
            "[array([0.00246411, 0.00634509, 0.00806998, 0.0107189 , 0.00843959,\n",
            "       0.00905562, 0.00831638, 0.01004127, 0.01158134, 0.01164295,\n",
            "       0.01145813, 0.01078051, 0.02057536, 0.02069857, 0.01829606,\n",
            "       0.01965132, 0.01928171, 0.01761842, 0.01995934, 0.01946652,\n",
            "       0.02168422, 0.02205384, 0.02384032, 0.02359391, 0.02451796,\n",
            "       0.02642764, 0.02710528, 0.025442  , 0.02593482, 0.02390192,\n",
            "       0.02266986, 0.03030863, 0.03006221, 0.03123267, 0.03018542,\n",
            "       0.03080145, 0.03147908, 0.03067825, 0.0338816 , 0.03308076,\n",
            "       0.03646892, 0.03517527, 0.03345037, 0.0319719 , 0.03369679,\n",
            "       0.03474403, 0.03462083, 0.03492885, 0.03880982, 0.03942586,\n",
            "       0.03991867, 0.0383786 , 0.0359145 , 0.03462083, 0.03412801,\n",
            "       0.03468243, 0.03474403, 0.03831701, 0.03788579, 0.03585288]), array([0.00634509, 0.00806998, 0.0107189 , 0.00843959, 0.00905562,\n",
            "       0.00831638, 0.01004127, 0.01158134, 0.01164295, 0.01145813,\n",
            "       0.01078051, 0.02057536, 0.02069857, 0.01829606, 0.01965132,\n",
            "       0.01928171, 0.01761842, 0.01995934, 0.01946652, 0.02168422,\n",
            "       0.02205384, 0.02384032, 0.02359391, 0.02451796, 0.02642764,\n",
            "       0.02710528, 0.025442  , 0.02593482, 0.02390192, 0.02266986,\n",
            "       0.03030863, 0.03006221, 0.03123267, 0.03018542, 0.03080145,\n",
            "       0.03147908, 0.03067825, 0.0338816 , 0.03308076, 0.03646892,\n",
            "       0.03517527, 0.03345037, 0.0319719 , 0.03369679, 0.03474403,\n",
            "       0.03462083, 0.03492885, 0.03880982, 0.03942586, 0.03991867,\n",
            "       0.0383786 , 0.0359145 , 0.03462083, 0.03412801, 0.03468243,\n",
            "       0.03474403, 0.03831701, 0.03788579, 0.03585288, 0.03542166])]\n",
            "[0.03542166100213601, 0.0362840979700666]\n",
            "\n"
          ],
          "name": "stdout"
        }
      ]
    },
    {
      "cell_type": "code",
      "metadata": {
        "id": "zj1DDBokjnDs"
      },
      "source": [
        "x_train, y_train = np.array(x_train), np.array(y_train)"
      ],
      "execution_count": null,
      "outputs": []
    },
    {
      "cell_type": "code",
      "metadata": {
        "id": "m_YYxr4yjqv1",
        "outputId": "f5051039-c4a3-4af4-c206-624d54946e74",
        "colab": {
          "base_uri": "https://localhost:8080/",
          "height": 34
        }
      },
      "source": [
        "x_train = np.reshape(x_train, (x_train.shape[0], x_train.shape[1], 1))\n",
        "x_train.shape"
      ],
      "execution_count": null,
      "outputs": [
        {
          "output_type": "execute_result",
          "data": {
            "text/plain": [
              "(1578, 60, 1)"
            ]
          },
          "metadata": {
            "tags": []
          },
          "execution_count": 10
        }
      ]
    },
    {
      "cell_type": "code",
      "metadata": {
        "id": "NWdiDPYCjsQV",
        "outputId": "e5205c7c-7188-4f64-aaea-96d84964cf53",
        "colab": {
          "base_uri": "https://localhost:8080/",
          "height": 139
        }
      },
      "source": [
        "model = Sequential()\n",
        "model.add(LSTM(50, return_sequences=True, input_shape= (x_train.shape[1], 1)))\n",
        "model.add(LSTM(50, return_sequences= False))\n",
        "model.add(Dense(25))\n",
        "model.add(Dense(1))"
      ],
      "execution_count": null,
      "outputs": [
        {
          "output_type": "stream",
          "text": [
            "WARNING:tensorflow:From /usr/local/lib/python3.6/dist-packages/keras/backend/tensorflow_backend.py:66: The name tf.get_default_graph is deprecated. Please use tf.compat.v1.get_default_graph instead.\n",
            "\n",
            "WARNING:tensorflow:From /usr/local/lib/python3.6/dist-packages/keras/backend/tensorflow_backend.py:541: The name tf.placeholder is deprecated. Please use tf.compat.v1.placeholder instead.\n",
            "\n",
            "WARNING:tensorflow:From /usr/local/lib/python3.6/dist-packages/keras/backend/tensorflow_backend.py:4432: The name tf.random_uniform is deprecated. Please use tf.random.uniform instead.\n",
            "\n"
          ],
          "name": "stdout"
        }
      ]
    },
    {
      "cell_type": "code",
      "metadata": {
        "id": "XUmt-N5U-RX8",
        "outputId": "1ec6a14e-b88f-4a4b-ccf7-f3e21606e99b",
        "colab": {
          "base_uri": "https://localhost:8080/",
          "height": 34
        }
      },
      "source": [
        "confidence_level = 95\n",
        "confidence_level"
      ],
      "execution_count": null,
      "outputs": [
        {
          "output_type": "execute_result",
          "data": {
            "text/plain": [
              "95"
            ]
          },
          "metadata": {
            "tags": []
          },
          "execution_count": 12
        }
      ]
    },
    {
      "cell_type": "code",
      "metadata": {
        "id": "RgX9JLUyjyrk",
        "outputId": "2d631b96-4e22-4d40-9b87-ef5b76ea4570",
        "colab": {
          "base_uri": "https://localhost:8080/",
          "height": 71
        }
      },
      "source": [
        "model.compile(optimizer='adam', loss='mean_squared_error')"
      ],
      "execution_count": null,
      "outputs": [
        {
          "output_type": "stream",
          "text": [
            "WARNING:tensorflow:From /usr/local/lib/python3.6/dist-packages/keras/optimizers.py:793: The name tf.train.Optimizer is deprecated. Please use tf.compat.v1.train.Optimizer instead.\n",
            "\n"
          ],
          "name": "stdout"
        }
      ]
    },
    {
      "cell_type": "code",
      "metadata": {
        "id": "4P2HwcUNj7KN",
        "outputId": "ebe60859-9ffd-4e7c-f0a4-3cc067badc21",
        "colab": {
          "base_uri": "https://localhost:8080/",
          "height": 411
        }
      },
      "source": [
        "model.fit(x_train, y_train, batch_size=1, epochs=1)\n"
      ],
      "execution_count": null,
      "outputs": [
        {
          "output_type": "stream",
          "text": [
            "WARNING:tensorflow:From /usr/local/lib/python3.6/dist-packages/tensorflow_core/python/ops/math_grad.py:1424: where (from tensorflow.python.ops.array_ops) is deprecated and will be removed in a future version.\n",
            "Instructions for updating:\n",
            "Use tf.where in 2.0, which has the same broadcast rule as np.where\n",
            "WARNING:tensorflow:From /usr/local/lib/python3.6/dist-packages/keras/backend/tensorflow_backend.py:1033: The name tf.assign_add is deprecated. Please use tf.compat.v1.assign_add instead.\n",
            "\n",
            "WARNING:tensorflow:From /usr/local/lib/python3.6/dist-packages/keras/backend/tensorflow_backend.py:1020: The name tf.assign is deprecated. Please use tf.compat.v1.assign instead.\n",
            "\n",
            "WARNING:tensorflow:From /usr/local/lib/python3.6/dist-packages/keras/backend/tensorflow_backend.py:3005: The name tf.Session is deprecated. Please use tf.compat.v1.Session instead.\n",
            "\n",
            "Epoch 1/1\n",
            "WARNING:tensorflow:From /usr/local/lib/python3.6/dist-packages/keras/backend/tensorflow_backend.py:190: The name tf.get_default_session is deprecated. Please use tf.compat.v1.get_default_session instead.\n",
            "\n",
            "WARNING:tensorflow:From /usr/local/lib/python3.6/dist-packages/keras/backend/tensorflow_backend.py:197: The name tf.ConfigProto is deprecated. Please use tf.compat.v1.ConfigProto instead.\n",
            "\n",
            "WARNING:tensorflow:From /usr/local/lib/python3.6/dist-packages/keras/backend/tensorflow_backend.py:207: The name tf.global_variables is deprecated. Please use tf.compat.v1.global_variables instead.\n",
            "\n",
            "WARNING:tensorflow:From /usr/local/lib/python3.6/dist-packages/keras/backend/tensorflow_backend.py:216: The name tf.is_variable_initialized is deprecated. Please use tf.compat.v1.is_variable_initialized instead.\n",
            "\n",
            "WARNING:tensorflow:From /usr/local/lib/python3.6/dist-packages/keras/backend/tensorflow_backend.py:223: The name tf.variables_initializer is deprecated. Please use tf.compat.v1.variables_initializer instead.\n",
            "\n",
            "1578/1578 [==============================] - 127s 81ms/step - loss: 4.4408e-04\n"
          ],
          "name": "stdout"
        },
        {
          "output_type": "execute_result",
          "data": {
            "text/plain": [
              "<keras.callbacks.History at 0x7f4777fe1278>"
            ]
          },
          "metadata": {
            "tags": []
          },
          "execution_count": 14
        }
      ]
    },
    {
      "cell_type": "code",
      "metadata": {
        "id": "6tM5Yt3tmnPZ"
      },
      "source": [
        " test_data = scaled_data[training_data_len - 60: , :]\n",
        "x_test = []\n",
        "y_test = dataset[training_data_len:, :]\n",
        "for i in range(60, len(test_data)):\n",
        "  x_test.append(test_data[i-60:i, 0])"
      ],
      "execution_count": null,
      "outputs": []
    },
    {
      "cell_type": "code",
      "metadata": {
        "id": "CqvV7Rbmmszb"
      },
      "source": [
        "x_test = np.array(x_test)"
      ],
      "execution_count": null,
      "outputs": []
    },
    {
      "cell_type": "code",
      "metadata": {
        "id": "08J91FKFnAFX"
      },
      "source": [
        "x_test = np.reshape(x_test, (x_test.shape[0], x_test.shape[1], 1 ))"
      ],
      "execution_count": null,
      "outputs": []
    },
    {
      "cell_type": "code",
      "metadata": {
        "id": "rBRH4KKinA1C"
      },
      "source": [
        "predictions = model.predict(x_test)\n",
        "predictions = scaler.inverse_transform(predictions)"
      ],
      "execution_count": null,
      "outputs": []
    },
    {
      "cell_type": "code",
      "metadata": {
        "id": "gZplcNR9nDL8",
        "outputId": "8ebfe09e-430d-4b24-b8d5-17ee97f346fa",
        "colab": {
          "base_uri": "https://localhost:8080/",
          "height": 34
        }
      },
      "source": [
        "rmse=np.sqrt(np.mean(((predictions- y_test)**2)))\n",
        "rmse"
      ],
      "execution_count": null,
      "outputs": [
        {
          "output_type": "execute_result",
          "data": {
            "text/plain": [
              "3.804909709337594"
            ]
          },
          "metadata": {
            "tags": []
          },
          "execution_count": 20
        }
      ]
    },
    {
      "cell_type": "code",
      "metadata": {
        "id": "9yV52v04nL_v",
        "outputId": "48c2daa7-94b8-4e00-e7e3-3680aae0ec4e",
        "colab": {
          "base_uri": "https://localhost:8080/",
          "height": 660
        }
      },
      "source": [
        "train = data[:training_data_len]\n",
        "valid = data[training_data_len:]\n",
        "valid['Predictions'] = predictions\n",
        "#Visualize the data\n",
        "plt.figure(figsize=(16,8))\n",
        "plt.title('Model')\n",
        "plt.xlabel('Date', fontsize=18)\n",
        "plt.ylabel('Close Price USD ($)', fontsize=18)\n",
        "plt.plot(train['Close'])\n",
        "plt.plot(valid[['Close', 'Predictions']])\n",
        "plt.legend(['Train', 'Predictions', 'Val'], loc='lower right')\n",
        "plt.show()"
      ],
      "execution_count": null,
      "outputs": [
        {
          "output_type": "stream",
          "text": [
            "/usr/local/lib/python3.6/dist-packages/ipykernel_launcher.py:3: SettingWithCopyWarning: \n",
            "A value is trying to be set on a copy of a slice from a DataFrame.\n",
            "Try using .loc[row_indexer,col_indexer] = value instead\n",
            "\n",
            "See the caveats in the documentation: http://pandas.pydata.org/pandas-docs/stable/user_guide/indexing.html#returning-a-view-versus-a-copy\n",
            "  This is separate from the ipykernel package so we can avoid doing imports until\n"
          ],
          "name": "stderr"
        },
        {
          "output_type": "display_data",
          "data": {
            "image/png": "[encoded data removed]",
            "text/plain": [
              "<Figure size 1152x576 with 1 Axes>"
            ]
          },
          "metadata": {
            "tags": []
          }
        }
      ]
    },
    {
      "cell_type": "code",
      "metadata": {
        "id": "OW0ItbHhpJbA"
      },
      "source": [
        "valid"
      ],
      "execution_count": null,
      "outputs": []
    },
    {
      "cell_type": "code",
      "metadata": {
        "id": "nP1Bzsx5pK29",
        "outputId": "e37ecb8e-05a0-4c5e-f1bc-faacd73c7d15",
        "colab": {
          "base_uri": "https://localhost:8080/",
          "height": 34
        }
      },
      "source": [
        "microsoft_quote = web.DataReader(company, data_source='yahoo', start='2012-01-01', end='2020-02-25')\n",
        "new_df = microsoft_quote.filter(['Close'])\n",
        "last_60_days = new_df[-60:].values\n",
        "last_60_days_scaled = scaler.transform(last_60_days)\n",
        "X_test = []\n",
        "X_test.append(last_60_days_scaled)\n",
        "X_test = np.array(X_test)\n",
        "X_test = np.reshape(X_test, (X_test.shape[0], X_test.shape[1], 1))\n",
        "pred_price = model.predict(X_test)\n",
        "pred_price = scaler.inverse_transform(pred_price)\n",
        "print(pred_price)"
      ],
      "execution_count": null,
      "outputs": [
        {
          "output_type": "stream",
          "text": [
            "[[177.022]]\n"
          ],
          "name": "stdout"
        }
      ]
    },
    {
      "cell_type": "code",
      "metadata": {
        "id": "FZJd-xPMpqcZ",
        "outputId": "0a4e271e-a7b7-4dae-f76d-a64524166016",
        "colab": {
          "base_uri": "https://localhost:8080/",
          "height": 833
        }
      },
      "source": [
        "microsoft_quote2 = web.DataReader(company, data_source='yahoo', start='2019-12-18', end='2020-02-29')\n",
        "print(microsoft_quote2['Close'])\n",
        "print(\"The predicted price for \", company, \" is \", pred_price, \" with a \", confidence_level, \"% confidence level\")"
      ],
      "execution_count": null,
      "outputs": [
        {
          "output_type": "stream",
          "text": [
            "Date\n",
            "2019-12-18    154.369995\n",
            "2019-12-19    155.710007\n",
            "2019-12-20    157.410004\n",
            "2019-12-23    157.410004\n",
            "2019-12-24    157.380005\n",
            "2019-12-26    158.669998\n",
            "2019-12-27    158.960007\n",
            "2019-12-30    157.589996\n",
            "2019-12-31    157.699997\n",
            "2020-01-02    160.619995\n",
            "2020-01-03    158.619995\n",
            "2020-01-06    159.029999\n",
            "2020-01-07    157.580002\n",
            "2020-01-08    160.089996\n",
            "2020-01-09    162.089996\n",
            "2020-01-10    161.339996\n",
            "2020-01-13    163.279999\n",
            "2020-01-14    162.130005\n",
            "2020-01-15    163.179993\n",
            "2020-01-16    166.169998\n",
            "2020-01-17    167.100006\n",
            "2020-01-21    166.500000\n",
            "2020-01-22    165.699997\n",
            "2020-01-23    166.720001\n",
            "2020-01-24    165.039993\n",
            "2020-01-27    162.279999\n",
            "2020-01-28    165.460007\n",
            "2020-01-29    168.039993\n",
            "2020-01-30    172.779999\n",
            "2020-01-31    170.229996\n",
            "2020-02-03    174.380005\n",
            "2020-02-04    180.119995\n",
            "2020-02-05    179.899994\n",
            "2020-02-06    183.630005\n",
            "2020-02-07    183.889999\n",
            "2020-02-10    188.699997\n",
            "2020-02-11    184.440002\n",
            "2020-02-12    184.710007\n",
            "2020-02-13    183.710007\n",
            "2020-02-14    185.350006\n",
            "2020-02-18    187.229996\n",
            "2020-02-19    187.279999\n",
            "2020-02-20    184.419998\n",
            "2020-02-21    178.589996\n",
            "2020-02-24    171.789307\n",
            "Name: Close, dtype: float64\n",
            "The predicted price for  MSFT  is  [[177.022]]  with a  95 % confidence level\n"
          ],
          "name": "stdout"
        }
      ]
    }
  ]
}